{
 "cells": [
  {
   "cell_type": "markdown",
   "metadata": {},
   "source": [
    "# Задача\n",
    "\n",
    "Найти минимум функции $$f(x,y) = 6x^6 + 2x^4 y^2+10x^2 + 6xy+10y^2-6x +4 $$"
   ]
  },
  {
   "cell_type": "markdown",
   "metadata": {},
   "source": [
    "# Решение\n",
    "\n",
    "Найдём минимум функции программно с помощью градиентного спуска"
   ]
  },
  {
   "cell_type": "code",
   "execution_count": 88,
   "metadata": {},
   "outputs": [],
   "source": [
    "def f(x):              # определяем функцию, минимум которой надо найти\n",
    "    return 6*x[0]**6+2*x[0]**4 * x[1]**2 + 10*x[0]**2 + 6*x[0]*x[1] + 10 * x[1]**2 - 6*x[0] + 4\n",
    "\n",
    "def gradf(x):    # градиент функции, минимум которой надо найти\n",
    "    return [36*x[0]**5 + 8*x[0]**3*x[1]**2+20*x[0]+6*x[1]-6, 4*x[0]**4 * x[1] + 6*x[0]+20*x[1]]\n",
    "\n",
    "def GD(lr, epsilon , f , gradf , x_0 ): # lr - шаг\n",
    "    # epsilon - погрешность, на которые отличаются два последовательных приближения по евклидовой норме\n",
    "    # f, gradf - функция и градиент функции\n",
    "    #x_0 - начальное приближениe\n",
    "    x_1 = []       \n",
    "    x_2 = [0,0]\n",
    "    x_1[:] = x_0[:]\n",
    "    g = gradf(x_1)\n",
    "    x_2[0] = x_1[0] - lr*g[0]  \n",
    "    x_2[1] = x_1[1] - lr*g[1]\n",
    "    err = ((x_2[0]-x_1[0])**2+(x_2[1]-x_1[1])**2)**(0.5)\n",
    "    while err > epsilon :\n",
    "        i+=1\n",
    "        x_1[:] = x_2[:]\n",
    "        g = gradf(x_1)\n",
    "        x_2[0] = x_1[0] - lr*g[0]\n",
    "        x_2[1] = x_1[1] - lr*g[1]\n",
    "        err = ((x_2[0]-x_1[0])**2+(x_2[1]-x_1[1])**2)**(0.5)\n",
    "    return x_2\n",
    "        "
   ]
  },
  {
   "cell_type": "code",
   "execution_count": 102,
   "metadata": {},
   "outputs": [],
   "source": [
    "x_0 = [0,0] # начальное приближение\n",
    "lr = 0.01       # шаг\n",
    "epsilon = 10**(-6) # погрешность\n",
    "\n",
    "answ = GD(lr,epsilon, lambda x: f(x), lambda x: gradf(x) , x_0)"
   ]
  },
  {
   "cell_type": "code",
   "execution_count": 103,
   "metadata": {},
   "outputs": [
    {
     "name": "stdout",
     "output_type": "stream",
     "text": [
      "[0.32255398643866723, -0.09655428170480675]\n"
     ]
    }
   ],
   "source": [
    "print(answ)"
   ]
  },
  {
   "cell_type": "markdown",
   "metadata": {},
   "source": [
    "# Ответ\n",
    "\n",
    "Методом градиентного спуска получили приближённый минимум функции $$x = 0.32255 $$ $$y = -0.09655 $$"
   ]
  },
  {
   "cell_type": "code",
   "execution_count": null,
   "metadata": {},
   "outputs": [],
   "source": []
  },
  {
   "cell_type": "code",
   "execution_count": null,
   "metadata": {},
   "outputs": [],
   "source": []
  }
 ],
 "metadata": {
  "kernelspec": {
   "display_name": "Python 3",
   "language": "python",
   "name": "python3"
  },
  "language_info": {
   "codemirror_mode": {
    "name": "ipython",
    "version": 3
   },
   "file_extension": ".py",
   "mimetype": "text/x-python",
   "name": "python",
   "nbconvert_exporter": "python",
   "pygments_lexer": "ipython3",
   "version": "3.7.3"
  }
 },
 "nbformat": 4,
 "nbformat_minor": 2
}
